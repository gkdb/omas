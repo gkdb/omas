{
  "nbformat_minor": 0, 
  "nbformat": 4, 
  "cells": [
    {
      "execution_count": null, 
      "cell_type": "code", 
      "source": [
        "%matplotlib inline"
      ], 
      "outputs": [], 
      "metadata": {
        "collapsed": false
      }
    }, 
    {
      "source": [
        "\nRapid plot\n==========\nThis example shows how to use the .plot_quantity() method to\nconveniently and rapidly plot individual ODS quantities\n\n"
      ], 
      "cell_type": "markdown", 
      "metadata": {}
    }, 
    {
      "execution_count": null, 
      "cell_type": "code", 
      "source": [
        "from __future__ import print_function, division, unicode_literals\n\nfrom matplotlib import pyplot\nimport os\nfrom omas import *\n\nods = ods_sample()\n\nkw = {}\nkw['lw'] = 2\n\nfig = pyplot.figure(figsize=(12, 6))\n\nax = fig.add_subplot(2, 2, 1)\nt = '$T_e$'\nods.plot_quantity('@core.*elec.*tem', t, **kw)\nax.set_title(t, y=0.8)\n\nax = fig.add_subplot(2, 2, 3, sharex=ax)\nt = '$T_i$'\nods.plot_quantity('@core.*ion.0.*tem', t, **kw)\nax.set_title(t, y=0.8)\n\nax = fig.add_subplot(4, 2, 2, sharex=ax)\nt = '$n_e$'\nods.plot_quantity('@core.*elec.*dens', t, **kw)\nax.set_title(t, y=0.8)\n\nax = fig.add_subplot(4, 2, 4, sharex=ax)\nt = '$n_D$'\nods.plot_quantity('@core.*ion.0.*dens.*th', t, **kw)\nax.set_title(t, y=0.8)\n\nax = fig.add_subplot(4, 2, 6, sharex=ax)\nt = '$n_C$'\nods.plot_quantity('@core.*ion.1.*dens.*th', t, **kw)\nax.set_title(t, y=0.8)\n\nax = fig.add_subplot(4, 2, 8, sharex=ax)\nt = '$Z_{eff}$'\nods.plot_quantity('@core.*zeff', t, **kw)\nax.set_title(t, y=0.8)\n\nfig.subplots_adjust(hspace=0)\npyplot.show()"
      ], 
      "outputs": [], 
      "metadata": {
        "collapsed": false
      }
    }
  ], 
  "metadata": {
    "kernelspec": {
      "display_name": "Python 2", 
      "name": "python2", 
      "language": "python"
    }, 
    "language_info": {
      "mimetype": "text/x-python", 
      "nbconvert_exporter": "python", 
      "name": "python", 
      "file_extension": ".py", 
      "version": "2.7.16", 
      "pygments_lexer": "ipython2", 
      "codemirror_mode": {
        "version": 2, 
        "name": "ipython"
      }
    }
  }
}