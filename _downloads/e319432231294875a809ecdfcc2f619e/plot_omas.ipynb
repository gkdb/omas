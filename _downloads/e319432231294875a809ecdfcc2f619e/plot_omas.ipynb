{
  "nbformat_minor": 0, 
  "nbformat": 4, 
  "cells": [
    {
      "execution_count": null, 
      "cell_type": "code", 
      "source": [
        "%matplotlib inline"
      ], 
      "outputs": [], 
      "metadata": {
        "collapsed": false
      }
    }, 
    {
      "source": [
        "\nOMAS plot examples\n==================\nThis example loads some data from S3, augments the ODS with pressure information, and generates some plots\n\n"
      ], 
      "cell_type": "markdown", 
      "metadata": {}
    }, 
    {
      "execution_count": null, 
      "cell_type": "code", 
      "source": [
        "from __future__ import print_function, division, unicode_literals\n\nfrom matplotlib.pyplot import show\nfrom omas import *\n\n# load some data from S3\nods = load_omas_s3('OMFITprofiles_sample', user='omas_shared')\n\n# augment ODS with pressure information\nods.consistency_check = False  # NOTE: some extra pressures are calculated if IMAS consistency_check = False\nods.physics_core_profiles_pressures()\n\n# omas plot for pressures\nods.plot_core_profiles_pressures()\nshow()\n\n# omas plot for core profiles\nods.plot_core_profiles_summary()\nshow()\n\n# omas plot for equilibrium\nomas_plot.equilibrium_summary(ods, linewidth=1, label='my equilibrium')\nshow()"
      ], 
      "outputs": [], 
      "metadata": {
        "collapsed": false
      }
    }
  ], 
  "metadata": {
    "kernelspec": {
      "display_name": "Python 2", 
      "name": "python2", 
      "language": "python"
    }, 
    "language_info": {
      "mimetype": "text/x-python", 
      "nbconvert_exporter": "python", 
      "name": "python", 
      "file_extension": ".py", 
      "version": "2.7.16", 
      "pygments_lexer": "ipython2", 
      "codemirror_mode": {
        "version": 2, 
        "name": "ipython"
      }
    }
  }
}