{
  "nbformat_minor": 0, 
  "nbformat": 4, 
  "cells": [
    {
      "execution_count": null, 
      "cell_type": "code", 
      "source": [
        "%matplotlib inline"
      ], 
      "outputs": [], 
      "metadata": {
        "collapsed": false
      }
    }, 
    {
      "source": [
        "\nshowcase paths\n==============\nThis example shows how OMAS supports dynamic path crection using different syntaxes.\n\n.. figure:: ../images/dynamic_path_testimonial.png\n  :align: center\n  :width: 100%\n  :alt: What people say about OMAS dynamic path creation\n  :target: ../_images/dynamic_path_testimonial.png\n\n"
      ], 
      "cell_type": "markdown", 
      "metadata": {}
    }, 
    {
      "execution_count": null, 
      "cell_type": "code", 
      "source": [
        "from __future__ import print_function, division, unicode_literals\nimport numpy\n\nfrom omas import *\n\nods = ODS()\n\n# without dynamic path creation one must use Python approach to create nested dictionaries\n# this can be extremely tedious!\nods.dynamic_path_creation = False\nods['equilibrium'] = ODS()\nods['equilibrium']['time_slice'] = ODS()\nods['equilibrium']['time_slice'][0] = ODS()\nods['equilibrium']['time_slice'][0]['time'] = 1000\nassert (ods['equilibrium']['time_slice'][0]['time'] == 1000.)\n\n# Dynamic path creation (True by default) makes life easier.\n# NOTE: OMAS supports different data access syntaxes\nods.dynamic_path_creation = True\n\n# access data as dictionary\nods['equilibrium']['time_slice'][0]['time'] = 1000.\nassert (ods['equilibrium']['time_slice'][0]['time'] == 1000.)\n\n# access data as string\nods['equilibrium.time_slice.1.time'] = 2000.\nassert (ods['equilibrium.time_slice.1.time'] == 2000.)\n\n# access data as string (square brackets for arrays of structures)\nods['equilibrium.time_slice[2].time'] = 3000.\nassert (ods['equilibrium.time_slice[2].time'] == 3000.)\n\n# access data with path list\nods[['equilibrium', 'time_slice', 3, 'time']] = 4000.\nassert (ods[['equilibrium', 'time_slice', 3, 'time']] == 4000.)\n\n# access data with mix and match approach\nods['equilibrium']['time_slice.4.time'] = 5000.\nassert (ods['equilibrium']['time_slice.4.time'] == 5000.)\n\n# =============\n# Data slicing\n# =============\n\n# classic ways to access data across an array of structures\ndata = []\nfor k in ods['equilibrium.time_slice'].keys():\n    data.append(ods['equilibrium.time_slice'][k]['time'])\ndata = numpy.array(data)\nassert (numpy.all(data == numpy.array([1000., 2000., 3000., 4000., 5000.])))\n\n# access data across an array of structures via data slicing\ndata = ods['equilibrium.time_slice.:.time']\nassert (numpy.all(data == numpy.array([1000., 2000., 3000., 4000., 5000.])))\n\n# =========================\n# .setdefault() and .get()\n# =========================\n\n# like for Python dictionaries .setdefault() will set an entry with its\n# default value (second argument) only if that entry does not exists already\nods = ODS()\nods['equilibrium.time_slice.0.global_quantities.ip'] = 6\nods.setdefault('equilibrium.time_slice.0.global_quantities.ip', 5)\nassert (ods['equilibrium.time_slice.0.global_quantities.ip'] == 6)\nods = ODS()\nods.setdefault('equilibrium.time_slice.0.global_quantities.ip', 5)\nassert (ods['equilibrium.time_slice.0.global_quantities.ip'] == 5)\n\n# like for Python dictionaries .get() return the value of an entry or its\n# default value (second argument) if that does not exists\nods = ODS()\nods.get('equilibrium.time_slice.0.global_quantities.ip', 5)\nassert ('equilibrium.time_slice.0.global_quantities.ip' not in ods)\n\n# ========\n# Cleanup\n# ========\n\n# Dynamic path creation can leave empty trees behind in case of bad IMAS location is entered.\n# This is inevitable when splitting the path in individual pieces.\n# These leftover are often innocuous, and occur only during the development stages.\n# Use of .prune() to clean empty branches left behind from dynamic path creation\nods = ODS()\ntry:\n    ods['equilibrium']['time_slice'][0]['global_quantities']['not_valid'] = 6\nexcept LookupError:\n    n = ods.prune()\n    assert (n == 4)\n    assert (len(ods) == 0)\n\n# Note that single string access does not leave empty branches\nods = ODS()\ntry:\n    ods['equilibrium.time_slice.0.global_quantities.asdasd'] = 6\nexcept LookupError:\n    assert (len(ods) == 0)"
      ], 
      "outputs": [], 
      "metadata": {
        "collapsed": false
      }
    }
  ], 
  "metadata": {
    "kernelspec": {
      "display_name": "Python 2", 
      "name": "python2", 
      "language": "python"
    }, 
    "language_info": {
      "mimetype": "text/x-python", 
      "nbconvert_exporter": "python", 
      "name": "python", 
      "file_extension": ".py", 
      "version": "2.7.16", 
      "pygments_lexer": "ipython2", 
      "codemirror_mode": {
        "version": 2, 
        "name": "ipython"
      }
    }
  }
}