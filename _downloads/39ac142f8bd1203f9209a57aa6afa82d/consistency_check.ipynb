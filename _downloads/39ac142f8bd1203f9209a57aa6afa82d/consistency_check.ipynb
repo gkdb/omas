{
  "nbformat_minor": 0, 
  "nbformat": 4, 
  "cells": [
    {
      "execution_count": null, 
      "cell_type": "code", 
      "source": [
        "%matplotlib inline"
      ], 
      "outputs": [], 
      "metadata": {
        "collapsed": false
      }
    }, 
    {
      "source": [
        "\nIMAS consistency check\n======================\nOMAS can enforce consistency with IMAS data structure.\nThere are three possible settings:\n\n* **consistency_check = False**: no consistency check. `False` can be used to use OMAS for other purposes other than IMAS\n\n* **consistency_check = 'warn'**: will print a wanrning if entry is outside of IMAS scope. `'warn'` can be useful when wanting to work with entries that are not yet supported by IMAS. Remember to open a JIRA issue (https://jira.iter.org) to start a conversation about making these entries officially part of IMAS.\n\n* **consistency_check = True**: will raise an error if entry is outside of IMAS scope. Recommended when working with IMAS. The error raised will clearly say where the error is, and provide suggestions based on valid IMAS structure.\n\n"
      ], 
      "cell_type": "markdown", 
      "metadata": {}
    }, 
    {
      "execution_count": null, 
      "cell_type": "code", 
      "source": [
        "from __future__ import print_function, division, unicode_literals\n\nimport os\n\nfrom omas import *\n\nprint('*' * 20)\nprint('consistency_check = False')\nprint('*' * 20)\nods = ods_sample()\nods.consistency_check = False\n# add entry with wrong dimensions\nods['equilibrium.time_slice[0].profiles_2d[0].b_tor'] = 1\n# add entry that is obsolescent\nods['equilibrium.time_slice[0].profiles_2d[0].b_tor'] = [[1, 1], [1, 1]]\n# add entry that does not exist in IMAS\nods['equilibrium.time_slice[2].does_not_exist.global_quantities.ip'] = 1\n\nprint('*' * 20)\nprint(\"consistency_check = 'warn'\")\nprint('*' * 20)\nods = ods_sample()\nods.consistency_check = 'warn'\n# add entry with wrong dimensions\nods['equilibrium.time_slice[0].profiles_2d[0].b_tor'] = 1\n# add entry that is obsolescent\nods['equilibrium.time_slice[0].profiles_2d[0].b_tor'] = [[1, 1], [1, 1]]\n# add entry that does not exist in IMAS\nods['equilibrium.time_slice[2].does_not_exist.global_quantities.ip'] = 1"
      ], 
      "outputs": [], 
      "metadata": {
        "collapsed": false
      }
    }, 
    {
      "source": [
        "In the above example `consistency_check = warn` or `True` result in the following warnings::\n\n    equilibrium.time_slice.:.profiles_2d.:.b_tor must be an array with dimensions: ['equilibrium.time_slice[:].profiles_2d[:].grid.dim1', 'equilibrium.time_slice[:].profiles_2d[:].grid.dim2']\n    equilibrium.time_slice.:.profiles_2d.:.b_tor is in OBSOLESCENT state\n\n"
      ], 
      "cell_type": "markdown", 
      "metadata": {}
    }, 
    {
      "execution_count": null, 
      "cell_type": "code", 
      "source": [
        "print('*' * 20)\nprint(\"consistency_check = True\")\nprint('*' * 20)\nods = ods_sample()\nods.consistency_check = True  # this is the default\n# add entry with wrong dimensions\nods['equilibrium.time_slice[0].profiles_2d[0].b_tor'] = 1\n# add entry that is obsolescent\nods['equilibrium.time_slice[0].profiles_2d[0].b_tor'] = [[1, 1], [1, 1]]\n# add entry that does not exist in IMAS\nods['equilibrium.time_slice[2].does_not_exist.global_quantities.ip'] = 1"
      ], 
      "outputs": [], 
      "metadata": {
        "collapsed": false
      }
    }, 
    {
      "source": [
        "In the above example `consistency_check = True` result in the following error::\n\n    LookupError: Not a valid IMAS 3.18.0 location: `equilibrium.time_slice.:.does_not_exist`\n                                                                             ^^^^^^^^^^^^^^\n    Did you mean: ['profiles_2d', 'ggd', 'boundary', 'profiles_1d', 'constraints', 'global_quantities', 'coordinate_system', 'boundary_separatrix', 'time', 'convergence']\n\n"
      ], 
      "cell_type": "markdown", 
      "metadata": {}
    }
  ], 
  "metadata": {
    "kernelspec": {
      "display_name": "Python 2", 
      "name": "python2", 
      "language": "python"
    }, 
    "language_info": {
      "mimetype": "text/x-python", 
      "nbconvert_exporter": "python", 
      "name": "python", 
      "file_extension": ".py", 
      "version": "2.7.16", 
      "pygments_lexer": "ipython2", 
      "codemirror_mode": {
        "version": 2, 
        "name": "ipython"
      }
    }
  }
}