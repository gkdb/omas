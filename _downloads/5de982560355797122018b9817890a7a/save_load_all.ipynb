{
  "nbformat_minor": 0, 
  "nbformat": 4, 
  "cells": [
    {
      "execution_count": null, 
      "cell_type": "code", 
      "source": [
        "%matplotlib inline"
      ], 
      "outputs": [], 
      "metadata": {
        "collapsed": false
      }
    }, 
    {
      "source": [
        "\nTest all save/load systems\n==========================\nSave and load a sample ODS through the different OMAS save formats and check that information does not get lost or corrupted.\nA final report summarizes if some storage systems combinations have errors.\n\n"
      ], 
      "cell_type": "markdown", 
      "metadata": {}
    }, 
    {
      "execution_count": null, 
      "cell_type": "code", 
      "source": [
        "from __future__ import print_function, division, unicode_literals\n\nimport os\nimport numpy\nfrom omas import *\nfrom omas.omas_utils import printd\n\n_tests = ['pkl', 'json', 'nc', 's3', 'h5', 'imas', 'hdc']\n\n\ndef through_omas_suite(ods=None, test_type=None, do_raise=False):\n    \"\"\"\n    :param ods: omas structure to test. If None this is set to ods_sample\n\n    :param test_type: None tests all suite, otherwise choose among %s\n\n    :param do_raise: raise error if something goes wrong\n    \"\"\"\n\n    if ods is None:\n        ods = ods_sample()\n\n    if test_type in _tests:\n        os.environ['OMAS_DEBUG_TOPIC'] = test_type\n        ods1 = globals()['through_omas_' + test_type](ods)\n        check = different_ods(ods, ods1)\n        if not check:\n            print('OMAS data got saved and loaded correctly')\n        else:\n            pprint(check)\n\n    else:\n        os.environ['OMAS_DEBUG_TOPIC'] = '*'\n        printd('OMAS is using IMAS data structure version `%s` as default' % omas_rcparams['default_imas_version'], topic='*')\n\n        print('=' * 20)\n\n        results = numpy.zeros((len(_tests), len(_tests)))\n\n        for k1, t1 in enumerate(_tests):\n            failed1 = False\n            try:\n                ods1 = globals()['through_omas_' + t1](ods)\n            except Exception as _excp:\n                failed1 = _excp\n                if do_raise:\n                    raise\n            for k2, t2 in enumerate(_tests):\n                try:\n                    if failed1:\n                        raise failed1\n                    ods2 = globals()['through_omas_' + t2](ods1)\n\n                    different = different_ods(ods1, ods2)\n                    if not different:\n                        print('FROM %s TO %s : OK' % (t1.center(5), t2.center(5)))\n                        results[k1, k2] = 1.0\n                    else:\n                        print('FROM %s TO %s : NO --> %s' %\n                              (t1.center(5), t2.center(5), different))\n                        results[k1, k2] = -1.0\n\n                except Exception as _excp:\n                    print('FROM %s TO %s : NO --> %s' %\n                          (t1.center(5), t2.center(5), repr(_excp)))\n                    if do_raise:\n                        raise\n        print('=' * 20)\n        print(results.astype(int))\n        print('=' * 20)\n\n\nthrough_omas_suite(ods=None, test_type=None, do_raise=False)"
      ], 
      "outputs": [], 
      "metadata": {
        "collapsed": false
      }
    }, 
    {
      "source": [
        "In the above example `consistency_check = True` result in the following error::\n\n    LookupError: Not a valid IMAS 3.18.0 location: `equilibrium.time_slice.:.does_not_exist`\n                                                                             ^^^^^^^^^^^^^^\n    Did you mean: ['profiles_2d', 'ggd', 'boundary', 'profiles_1d', 'constraints', 'global_quantities', 'coordinate_system', 'boundary_separatrix', 'time', 'convergence']\n\n"
      ], 
      "cell_type": "markdown", 
      "metadata": {}
    }, 
    {
      "source": [
        "If successful, the test should output:\n\n.. code-block:: none\n\n    ====================\n    FROM  pkl  TO  pkl  : OK\n    FROM  pkl  TO  json : OK\n    FROM  pkl  TO   nc  : OK\n    FROM  pkl  TO   s3  : OK\n    FROM  pkl  TO  imas : OK\n    FROM  json TO  pkl  : OK\n    FROM  json TO  json : OK\n    FROM  json TO   nc  : OK\n    FROM  json TO   s3  : OK\n    FROM  json TO  imas : OK\n    FROM   nc  TO  pkl  : OK\n    FROM   nc  TO  json : OK\n    FROM   nc  TO   nc  : OK\n    FROM   nc  TO   s3  : OK\n    FROM   nc  TO  imas : OK\n    FROM   s3  TO  pkl  : OK\n    FROM   s3  TO  json : OK\n    FROM   s3  TO   nc  : OK\n    FROM   s3  TO   s3  : OK\n    FROM   s3  TO  imas : OK\n    FROM  imas TO  pkl  : OK\n    FROM  imas TO  json : OK\n    FROM  imas TO   nc  : OK\n    FROM  imas TO   s3  : OK\n    FROM  imas TO  imas : OK\n    ====================\n    [[1 1 1 1 1]\n     [1 1 1 1 1]\n     [1 1 1 1 1]\n     [1 1 1 1 1]\n     [1 1 1 1 1]]\n    ====================\n\nIf for example `imas` is not installed on the system, the test output will look like:\n\n.. code-block:: none\n\n    ====================\n    FROM  pkl  TO  pkl  : OK\n    FROM  pkl  TO  json : OK\n    FROM  pkl  TO   nc  : OK\n    FROM  pkl  TO   s3  : OK\n    FROM  pkl  TO  imas : NO --> ImportError('No module named imas',)\n    FROM  json TO  pkl  : OK\n    FROM  json TO  json : OK\n    FROM  json TO   nc  : OK\n    FROM  json TO   s3  : OK\n    FROM  json TO  imas : NO --> ImportError('No module named imas',)\n    FROM   nc  TO  pkl  : OK\n    FROM   nc  TO  json : OK\n    FROM   nc  TO   nc  : OK\n    FROM   nc  TO   s3  : OK\n    FROM   nc  TO  imas : NO --> ImportError('No module named imas',)\n    FROM   s3  TO  pkl  : OK\n    FROM   s3  TO  json : OK\n    FROM   s3  TO   nc  : OK\n    FROM   s3  TO   s3  : OK\n    FROM   s3  TO  imas : NO --> ImportError('No module named imas',)\n    FROM  imas TO  pkl  : NO --> ImportError('No module named imas',)\n    FROM  imas TO  json : NO --> ImportError('No module named imas',)\n    FROM  imas TO   nc  : NO --> ImportError('No module named imas',)\n    FROM  imas TO   s3  : NO --> ImportError('No module named imas',)\n    FROM  imas TO  imas : NO --> ImportError('No module named imas',)\n    ====================\n    [[1 1 1 1 0]\n     [1 1 1 1 0]\n     [1 1 1 1 0]\n     [1 1 1 1 0]\n     [0 0 0 0 0]]\n    ====================\n\n"
      ], 
      "cell_type": "markdown", 
      "metadata": {}
    }
  ], 
  "metadata": {
    "kernelspec": {
      "display_name": "Python 2", 
      "name": "python2", 
      "language": "python"
    }, 
    "language_info": {
      "mimetype": "text/x-python", 
      "nbconvert_exporter": "python", 
      "name": "python", 
      "file_extension": ".py", 
      "version": "2.7.16", 
      "pygments_lexer": "ipython2", 
      "codemirror_mode": {
        "version": 2, 
        "name": "ipython"
      }
    }
  }
}