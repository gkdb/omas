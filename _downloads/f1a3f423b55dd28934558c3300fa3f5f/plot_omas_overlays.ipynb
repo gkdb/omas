{
  "nbformat_minor": 0, 
  "nbformat": 4, 
  "cells": [
    {
      "execution_count": null, 
      "cell_type": "code", 
      "source": [
        "%matplotlib inline"
      ], 
      "outputs": [], 
      "metadata": {
        "collapsed": false
      }
    }, 
    {
      "source": [
        "\nOMAS plot overlays\n==================\nThis example loads sample DIII-D overlay data and generates an overlays plots\n\n"
      ], 
      "cell_type": "markdown", 
      "metadata": {}
    }, 
    {
      "execution_count": null, 
      "cell_type": "code", 
      "source": [
        "from __future__ import print_function, division, unicode_literals\n\nfrom matplotlib.pyplot import show, gca\nfrom omas import *\nimport numpy\n\n# load sample data from S3\nods = load_omas_s3('DIIIDoverlay_sample', user='omas_shared')\n\n# plot equilibrium and wall\nods.plot_equilibrium_CX()\n# plot overlays\nods.plot_overlay(  # Values can be True to simply turn on or dict to pass keywords to specific overlay functions\n    gas_injection={'colors': ['b', 'g', 'c']},  # , 'which_gas': ['GASA', 'LOB1']},\n    bolometer={'labelevery': 1, 'mask': numpy.append(numpy.ones(24, bool), (numpy.arange(24) % 2).astype(bool)), 'linestyle': '--'},\n    thomson_scattering={'labelevery': 4, 'color': 'r'},\n    debug_all_plots=True,\n)\ngca().legend(loc='center left', bbox_to_anchor=(1, 0.5))\ngca().set_aspect('equal')\n\n# display figure\nshow()"
      ], 
      "outputs": [], 
      "metadata": {
        "collapsed": false
      }
    }
  ], 
  "metadata": {
    "kernelspec": {
      "display_name": "Python 2", 
      "name": "python2", 
      "language": "python"
    }, 
    "language_info": {
      "mimetype": "text/x-python", 
      "nbconvert_exporter": "python", 
      "name": "python", 
      "file_extension": ".py", 
      "version": "2.7.16", 
      "pygments_lexer": "ipython2", 
      "codemirror_mode": {
        "version": 2, 
        "name": "ipython"
      }
    }
  }
}