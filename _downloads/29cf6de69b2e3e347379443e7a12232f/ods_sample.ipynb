{
  "nbformat_minor": 0, 
  "nbformat": 4, 
  "cells": [
    {
      "execution_count": null, 
      "cell_type": "code", 
      "source": [
        "%matplotlib inline"
      ], 
      "outputs": [], 
      "metadata": {
        "collapsed": false
      }
    }, 
    {
      "source": [
        "\nSample OMAS data\n================\nOMAS provides a way to populate ODSs with sample data.\nThis is often useful for testing/debugging purposes.\n\n"
      ], 
      "cell_type": "markdown", 
      "metadata": {}
    }, 
    {
      "execution_count": null, 
      "cell_type": "code", 
      "source": [
        "from __future__ import print_function, division, unicode_literals\n\nimport os\n\nos.environ['OMAS_DEBUG_TOPIC'] = '*'\n\nfrom omas import *\n\n# list functions that fill ODS with sample data\nods_sample_methods = []\nfor item in dir(ODS):\n    if item.startswith('sample_'):\n        ods_sample_methods.append(item)\nprint(\"ods_sample_methods = %s\" % ods_sample_methods)\n\nods = ODS()\n\n# add sample equilibrium data to an ODS\nods.sample_equilibrium()\n\n# alternatively, ods_sample() generates a sample ODS that is populated by all `ODS.sample_` methods\nods = ods_sample()"
      ], 
      "outputs": [], 
      "metadata": {
        "collapsed": false
      }
    }
  ], 
  "metadata": {
    "kernelspec": {
      "display_name": "Python 2", 
      "name": "python2", 
      "language": "python"
    }, 
    "language_info": {
      "mimetype": "text/x-python", 
      "nbconvert_exporter": "python", 
      "name": "python", 
      "file_extension": ".py", 
      "version": "2.7.16", 
      "pygments_lexer": "ipython2", 
      "codemirror_mode": {
        "version": 2, 
        "name": "ipython"
      }
    }
  }
}