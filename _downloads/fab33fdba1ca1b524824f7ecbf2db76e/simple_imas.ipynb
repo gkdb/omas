{
  "nbformat_minor": 0, 
  "nbformat": 4, 
  "cells": [
    {
      "execution_count": null, 
      "cell_type": "code", 
      "source": [
        "%matplotlib inline"
      ], 
      "outputs": [], 
      "metadata": {
        "collapsed": false
      }
    }, 
    {
      "source": [
        "\nSimple IMAS\n===========\nSimple script showcasing OMAS writing minimal amount of data to IMAS.\nAlso, this script shows the use of 'imas_code_dump' as an `OMAS_DEBUG_TOPIC`,\nwhich can be useful for debugging purposes.\n\nPrior running this script, the following commands must be typed at the teriminal\n> import IMAS OMAS\n> imasdb ITER\n\n"
      ], 
      "cell_type": "markdown", 
      "metadata": {}
    }, 
    {
      "execution_count": null, 
      "cell_type": "code", 
      "source": [
        "from __future__ import print_function, division  # , unicode_literals\n\nimport os\nfrom pprint import pprint\nfrom omas import *\n\n# enable fake IMAS support in case IMAS is not present on current system\n# omas_rcparams['allow_fake_imas_fallback'] = True\n\n# set OMAS debugging topic\n# NOTE: appending '_dump' to a debug topic will write a omas.dump file in the working directory\n#       with the debug output in it. The 'imas_code_dump' is particularly useful since it generates\n#       the exact list of Python commands that OMAS used to work with IMAS.\nos.environ['OMAS_DEBUG_TOPIC'] = 'imas_code_dump'\n\nods = ODS()\n\n# first time-slice\n# 0D data\nods['equilibrium']['time_slice'][0]['time'] = 1000.\nods['equilibrium']['time_slice'][0]['global_quantities.ip'] = 1.E6\n# 1D data\nods['equilibrium']['time_slice'][0]['profiles_1d.psi'] = [1, 2, 3]\n\n# second time-slice\n# 0D data\nods['equilibrium']['time_slice'][1]['time'] = 1200.\nods['equilibrium']['time_slice'][1]['global_quantities.ip'] = 1.E6\n# 1D data\nods['equilibrium']['time_slice'][1]['profiles_1d.psi'] = [1, 2, 3]\n# 2D data\nods['equilibrium']['time_slice'][1]['profiles_2d'][0]['b_field_tor'] = [[1, 2, 3], [4, 5, 6]]\n\n# different ODS\n# 0D data\nods['core_profiles']['time'] = [1000.]\n\n# Save to IMAS\nprint('=' * 20)\nprint(' Writing data to IMAS')\nprint('=' * 20)\npaths = save_omas_imas(ods, machine='ITER', pulse=1, new=True)\npprint(ods.pretty_paths())\n\n# Load from IMAS\nprint('=' * 20)\nprint(' Reading data from IMAS')\nprint('=' * 20)\n\n# explicitly specify paths to collect\nods1 = load_omas_imas(machine='ITER', pulse=1, paths=paths)\npprint(ods1.pretty_paths())\n\n# check data\nprint('=' * 20)\nprint(' Compared saved/loaded data')\nprint('=' * 20)\ncheck = different_ods(ods, ods1)\nif not check:\n    print('OMAS data got saved and loaded correctly')\nelse:\n    pprint(check)\n\n# automatic paths discovery\n# ods1 = load_omas_imas(machine='ITER', pulse=1)\n# pprint(ods1.pretty_paths())\n\n# subpath selection\n# ods1 = load_omas_imas(machine='ITER', pulse=1, paths=['equilibrium.time_slice.0.time', 'equilibrium.time_slice.:.global_quantities.ip'])\n# pprint(ods1.pretty_paths())"
      ], 
      "outputs": [], 
      "metadata": {
        "collapsed": false
      }
    }
  ], 
  "metadata": {
    "kernelspec": {
      "display_name": "Python 2", 
      "name": "python2", 
      "language": "python"
    }, 
    "language_info": {
      "mimetype": "text/x-python", 
      "nbconvert_exporter": "python", 
      "name": "python", 
      "file_extension": ".py", 
      "version": "2.7.16", 
      "pygments_lexer": "ipython2", 
      "codemirror_mode": {
        "version": 2, 
        "name": "ipython"
      }
    }
  }
}