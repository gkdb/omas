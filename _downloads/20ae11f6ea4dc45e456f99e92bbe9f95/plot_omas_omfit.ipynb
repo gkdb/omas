{
  "nbformat_minor": 0, 
  "nbformat": 4, 
  "cells": [
    {
      "execution_count": null, 
      "cell_type": "code", 
      "source": [
        "%matplotlib inline"
      ], 
      "outputs": [], 
      "metadata": {
        "collapsed": false
      }
    }, 
    {
      "source": [
        "\nOMFIT classes and plotting\n==========================\nHow to generate ODSs from OMFITclasses, and use OMAS plot methods\nThis example only works with python 2.7 since OMFIT is only Python 2.7 compatible\n\n"
      ], 
      "cell_type": "markdown", 
      "metadata": {}
    }, 
    {
      "execution_count": null, 
      "cell_type": "code", 
      "source": [
        "from __future__ import print_function, division, unicode_literals\n\nfrom matplotlib.pyplot import show\n\nfrom omfit.classes.omfit_eqdsk import OMFITgeqdsk, OMFITsrc\nfrom omfit.classes.omfit_gacode import OMFITgacode\nfrom omas import *\n\n# =====================\n# plotting equilibrium\n# =====================\n# read gEQDSK file in OMFIT\ngeq = OMFITgeqdsk(OMFITsrc + '/../samples/g133221.01000')\ngeq['fluxSurfaces'].load()\n\n# convert gEQDSK to OMAS data structure\nods = geq.to_omas()\n\n# omas plots using functional approach\nomas_plot.equilibrium_summary(ods, linewidth=1)\n\n# omas plots using object-oriented approach\n# ods.plot_equilibrium_summary(linewidth=1)\n\n# =====================\n# plotting profiles\n# =====================\n# read input.profiles file in OMFIT\nip = OMFITgacode(OMFITsrc + '/../samples/input.profiles')\n\n# convert input.profiles to OMAS data structure\nods = ip.to_omas()\n\n# omas plots using functional approach\n# omas_plot.core_profiles_summary(ods)\n\n# omas plots using object-oriented approach\nods.plot_core_profiles_summary()\n\nshow()"
      ], 
      "outputs": [], 
      "metadata": {
        "collapsed": false
      }
    }
  ], 
  "metadata": {
    "kernelspec": {
      "display_name": "Python 2", 
      "name": "python2", 
      "language": "python"
    }, 
    "language_info": {
      "mimetype": "text/x-python", 
      "nbconvert_exporter": "python", 
      "name": "python", 
      "file_extension": ".py", 
      "version": "2.7.16", 
      "pygments_lexer": "ipython2", 
      "codemirror_mode": {
        "version": 2, 
        "name": "ipython"
      }
    }
  }
}