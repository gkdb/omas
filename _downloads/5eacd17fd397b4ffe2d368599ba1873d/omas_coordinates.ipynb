{
  "nbformat_minor": 0, 
  "nbformat": 4, 
  "cells": [
    {
      "execution_count": null, 
      "cell_type": "code", 
      "source": [
        "%matplotlib inline"
      ], 
      "outputs": [], 
      "metadata": {
        "collapsed": false
      }
    }, 
    {
      "source": [
        "\nCoordinates interpolation\n=========================\nThis example illustrates how OMAS can automatically interpolate data\ndefined on coordinates that were already present in the data structure.\nThis feature is extremely useful when different codes that have different\ncomputational grids need to read/write parts of the same data structure.\n\n"
      ], 
      "cell_type": "markdown", 
      "metadata": {}
    }, 
    {
      "execution_count": null, 
      "cell_type": "code", 
      "source": [
        "from __future__ import print_function, division, unicode_literals\n\nimport numpy\nfrom omas import *\n\nprint('A')\n# SET: if a coordinate exists, then that is the coordinate that it is used\nods1 = ODS()\nods1['equilibrium.time_slice[0].profiles_1d.psi'] = numpy.linspace(0, 1, 10)\nwith omas_environment(ods1, coordsio={'equilibrium.time_slice[0].profiles_1d.psi': numpy.linspace(0, 1, 5)}):\n    ods1['equilibrium.time_slice[0].profiles_1d.f'] = numpy.linspace(0, 1, 5)\nprint('ods1 f has length %d' % len(ods1['equilibrium.time_slice[0].profiles_1d.f']))\nprint()"
      ], 
      "outputs": [], 
      "metadata": {
        "collapsed": false
      }
    }, 
    {
      "source": [
        "A prints the following::\n\n    A\n    ods1 f has length 10\n\n\n"
      ], 
      "cell_type": "markdown", 
      "metadata": {}
    }, 
    {
      "execution_count": null, 
      "cell_type": "code", 
      "source": [
        "print('B')\n# SET: if a does not exists, then that coordinate is set\nods2 = ODS()\nwith omas_environment(ods2, coordsio={'equilibrium.time_slice[0].profiles_1d.psi': numpy.linspace(0, 1, 5)}):\n    ods2['equilibrium.time_slice[0].profiles_1d.pressure'] = numpy.linspace(0, 1, 5)\nprint('ods2 p has length %d' % len(ods2['equilibrium.time_slice[0].profiles_1d.pressure']))\nprint()"
      ], 
      "outputs": [], 
      "metadata": {
        "collapsed": false
      }
    }, 
    {
      "source": [
        "B the following::\n\n    B\n    ods2 p has length 5\n\n\n"
      ], 
      "cell_type": "markdown", 
      "metadata": {}
    }, 
    {
      "execution_count": null, 
      "cell_type": "code", 
      "source": [
        "print('C')\n# SET: coordinates can be taken from existing ODSs\nods3 = ODS()\nwith omas_environment(ods3, coordsio=ods1):\n    ods3['equilibrium.time_slice[0].profiles_1d.f'] = ods1['equilibrium.time_slice[0].profiles_1d.f']\nwith omas_environment(ods3, coordsio=ods2):\n    ods3['equilibrium.time_slice[0].profiles_1d.pressure'] = ods2['equilibrium.time_slice[0].profiles_1d.pressure']\nprint('ods3 f has length %d' % len(ods3['equilibrium.time_slice[0].profiles_1d.f']))\nprint('ods3 p has length %d' % len(ods3['equilibrium.time_slice[0].profiles_1d.pressure']))\nprint()"
      ], 
      "outputs": [], 
      "metadata": {
        "collapsed": false
      }
    }, 
    {
      "source": [
        "C prints the following::\n\n    C\n    ods3 f has length 10\n    ods3 p has length 10\n\n\n"
      ], 
      "cell_type": "markdown", 
      "metadata": {}
    }, 
    {
      "execution_count": null, 
      "cell_type": "code", 
      "source": [
        "print('D')\n# SET: order matters\nods4 = ODS()\nwith omas_environment(ods4, coordsio=ods2):\n    ods4['equilibrium.time_slice[0].profiles_1d.pressure'] = ods2['equilibrium.time_slice[0].profiles_1d.pressure']\nwith omas_environment(ods4, coordsio=ods1):\n    ods4['equilibrium.time_slice[0].profiles_1d.f'] = ods1['equilibrium.time_slice[0].profiles_1d.f']\nprint('ods4 f has length %d' % len(ods4['equilibrium.time_slice[0].profiles_1d.f']))\nprint('ods4 p has length %d' % len(ods4['equilibrium.time_slice[0].profiles_1d.pressure']))\nprint()"
      ], 
      "outputs": [], 
      "metadata": {
        "collapsed": false
      }
    }, 
    {
      "source": [
        "D prints the following::\n\n    D\n    ods4 f has length 5\n    ods4 p has length 5\n\n\n"
      ], 
      "cell_type": "markdown", 
      "metadata": {}
    }, 
    {
      "execution_count": null, 
      "cell_type": "code", 
      "source": [
        "print('E')\n# GET: ods can be queried on different coordinates\nwith omas_environment(ods4, coordsio=ods1):\n    print('ods4 f is returned with length %d' % len(ods4['equilibrium.time_slice[0].profiles_1d.f']))\nprint('ods4 f is returned with length %d' % len(ods4['equilibrium.time_slice[0].profiles_1d.f']))"
      ], 
      "outputs": [], 
      "metadata": {
        "collapsed": false
      }
    }, 
    {
      "source": [
        "E prints the following::\n\n    E\n    ods4 f is returned with length 10\n    ods4 f is returned with length 5\n\n\n"
      ], 
      "cell_type": "markdown", 
      "metadata": {}
    }
  ], 
  "metadata": {
    "kernelspec": {
      "display_name": "Python 2", 
      "name": "python2", 
      "language": "python"
    }, 
    "language_info": {
      "mimetype": "text/x-python", 
      "nbconvert_exporter": "python", 
      "name": "python", 
      "file_extension": ".py", 
      "version": "2.7.16", 
      "pygments_lexer": "ipython2", 
      "codemirror_mode": {
        "version": 2, 
        "name": "ipython"
      }
    }
  }
}