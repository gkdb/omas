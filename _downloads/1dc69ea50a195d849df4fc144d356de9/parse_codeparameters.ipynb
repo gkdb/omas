{
  "nbformat_minor": 0, 
  "nbformat": 4, 
  "cells": [
    {
      "execution_count": null, 
      "cell_type": "code", 
      "source": [
        "%matplotlib inline"
      ], 
      "outputs": [], 
      "metadata": {
        "collapsed": false
      }
    }, 
    {
      "source": [
        "\nOMAS handling of code parameters\n==================\n\nThis example shows how XML code.parameters are handled withing OMAS\n\nNOTE: OMAS will save code.parameters as XML only when saving to IMAS\nAll other save methods retain the code.parameters tree structure\n\n"
      ], 
      "cell_type": "markdown", 
      "metadata": {}
    }, 
    {
      "execution_count": null, 
      "cell_type": "code", 
      "source": [
        "from pprint import pprint\nfrom omas import *\nimport tempfile\nimport os\n\n# Assign code parameters using dictionary approach\nods = ODS()\nods['equilibrium.code.parameters'] = CodeParameters()\nods['equilibrium.code.parameters']['test'] = {}\nods['equilibrium.code.parameters']['test']['parameter1'] = 1\nods['equilibrium.code.parameters']['test']['parameter2'] = 'hello'\nwith omas_environment(ods, xmlcodeparams=True):\n    pprint(ods)\n\n# Load code parameters from XML file\nods = ODS()\nods['equilibrium.time'] = [0.0]\nods['equilibrium.code.parameters'] = CodeParameters(imas_json_dir + '/../samples/input_gray.xml')\n\n# In OMAS code.parameters are represented as dicts\npprint(ods)\n# the XML representation can be set with an environment\nwith omas_environment(ods, xmlcodeparams=True):\n    pprint(ods)\npprint(ods)\n\n# The IMAS save is the only one that forces saving code.parameters as XML\n# All other save methods maintain the dictionary structure\nomas_rcparams['allow_fake_imas_fallback'] = True\n\n# Save to IMAS\n# code.parameters are saved as XML\nprint('=' * 20)\nprint(' Writing data to IMAS')\nprint('=' * 20)\nsave_omas_imas(ods, machine='ITER', pulse=1, new=True)\n\n# Load from IMAS\n# code.parameters are loaded as XML\nprint('=' * 20)\nprint(' Reading data from IMAS')\nprint('=' * 20)\nods1 = load_omas_imas(machine='ITER', pulse=1)\n\n# code.parameters are dictionaries in the ODS\npprint(ods['equilibrium.code.parameters'])"
      ], 
      "outputs": [], 
      "metadata": {
        "collapsed": false
      }
    }
  ], 
  "metadata": {
    "kernelspec": {
      "display_name": "Python 2", 
      "name": "python2", 
      "language": "python"
    }, 
    "language_info": {
      "mimetype": "text/x-python", 
      "nbconvert_exporter": "python", 
      "name": "python", 
      "file_extension": ".py", 
      "version": "2.7.16", 
      "pygments_lexer": "ipython2", 
      "codemirror_mode": {
        "version": 2, 
        "name": "ipython"
      }
    }
  }
}