{
  "nbformat_minor": 0, 
  "nbformat": 4, 
  "cells": [
    {
      "execution_count": null, 
      "cell_type": "code", 
      "source": [
        "%matplotlib inline"
      ], 
      "outputs": [], 
      "metadata": {
        "collapsed": false
      }
    }, 
    {
      "source": [
        "\nUDA Universal Data Access\n=========================\nThis example illustrates how OMAS can load machines\nexperimental data stored in IMAS format via UDA\n\n"
      ], 
      "cell_type": "markdown", 
      "metadata": {}
    }, 
    {
      "execution_count": null, 
      "cell_type": "code", 
      "source": [
        "from omas import *\nfrom pprint import pprint\n\n# MAST UDA server (restricted access)\nserver = 'idam0.mast.ccfe.ac.uk'\nport = 56563\n\npulse = 30420\n\nods = load_omas_uda(server=server,\n                    port=port,\n                    pulse=pulse,\n                    paths=['magnetics'])\n\npprint(ods.pretty_paths())"
      ], 
      "outputs": [], 
      "metadata": {
        "collapsed": false
      }
    }
  ], 
  "metadata": {
    "kernelspec": {
      "display_name": "Python 2", 
      "name": "python2", 
      "language": "python"
    }, 
    "language_info": {
      "mimetype": "text/x-python", 
      "nbconvert_exporter": "python", 
      "name": "python", 
      "file_extension": ".py", 
      "version": "2.7.16", 
      "pygments_lexer": "ipython2", 
      "codemirror_mode": {
        "version": 2, 
        "name": "ipython"
      }
    }
  }
}