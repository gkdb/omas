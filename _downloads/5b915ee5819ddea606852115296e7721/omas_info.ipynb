{
  "nbformat_minor": 0, 
  "nbformat": 4, 
  "cells": [
    {
      "execution_count": null, 
      "cell_type": "code", 
      "source": [
        "%matplotlib inline"
      ], 
      "outputs": [], 
      "metadata": {
        "collapsed": false
      }
    }, 
    {
      "source": [
        "\nIDS info\n========\nThis is an example showing how to query OMAS for structural information about IMAS IDSs\n\n"
      ], 
      "cell_type": "markdown", 
      "metadata": {}
    }, 
    {
      "execution_count": null, 
      "cell_type": "code", 
      "source": [
        "from __future__ import print_function, division, unicode_literals\n\nfrom pprint import pprint\nfrom omas import *\n\n# test getting information about ids structures\ninfos = omas_info(['equilibrium', 'core_profiles'])\n\npprint(infos['equilibrium']['time_slice'][0]['global_quantities']['ip'])"
      ], 
      "outputs": [], 
      "metadata": {
        "collapsed": false
      }
    }, 
    {
      "source": [
        "The above example prints the following::\n\n    {'data_type': 'FLT_0D',\n     'documentation': 'Plasma current. Positive sign means anti-clockwise when viewed from above.',\n     'full_path': 'equilibrium/time_slice(itime)/global_quantities/ip',\n     'type': 'dynamic',\n     'units': 'A'}\n\n"
      ], 
      "cell_type": "markdown", 
      "metadata": {}
    }
  ], 
  "metadata": {
    "kernelspec": {
      "display_name": "Python 2", 
      "name": "python2", 
      "language": "python"
    }, 
    "language_info": {
      "mimetype": "text/x-python", 
      "nbconvert_exporter": "python", 
      "name": "python", 
      "file_extension": ".py", 
      "version": "2.7.16", 
      "pygments_lexer": "ipython2", 
      "codemirror_mode": {
        "version": 2, 
        "name": "ipython"
      }
    }
  }
}