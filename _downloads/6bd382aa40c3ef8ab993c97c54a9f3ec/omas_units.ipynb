{
  "nbformat_minor": 0, 
  "nbformat": 4, 
  "cells": [
    {
      "execution_count": null, 
      "cell_type": "code", 
      "source": [
        "%matplotlib inline"
      ], 
      "outputs": [], 
      "metadata": {
        "collapsed": false
      }
    }, 
    {
      "source": [
        "\nUnits conversions\n=================\nThis example illustrates how OMAS can automatically translate units by leveraging the `pint` Python package\n\n"
      ], 
      "cell_type": "markdown", 
      "metadata": {}
    }, 
    {
      "execution_count": null, 
      "cell_type": "code", 
      "source": [
        "from __future__ import print_function, division, unicode_literals\n\nfrom omas import *\n\nimport pint\n\nureg = pint.UnitRegistry()\n\nods = ODS()\n\ninvalue = 8.0 * ureg.milliseconds\nprint('Data input: %s' % invalue)\nods['equilibrium.time_slice[0].constraints.diamagnetic_flux.time_measurement'] = invalue\n\noutvalue = ods['equilibrium.time_slice[0].constraints.diamagnetic_flux.time_measurement']\nprint('Data output without units support: %s (IMAS uses MKS)' % outvalue)\n\nwith omas_environment(ods, unitsio=True):\n    outvalue = ods['equilibrium.time_slice[0].constraints.diamagnetic_flux.time_measurement']\nprint('Data output with units support: %s' % outvalue)"
      ], 
      "outputs": [], 
      "metadata": {
        "collapsed": false
      }
    }, 
    {
      "source": [
        ".. code-block:: none\n\n    Data input: 8.0 millisecond\n    Data output without units support: 0.008 (IMAS uses MKS)\n    Data output with units support: 0.008 second\n\n\n"
      ], 
      "cell_type": "markdown", 
      "metadata": {}
    }
  ], 
  "metadata": {
    "kernelspec": {
      "display_name": "Python 2", 
      "name": "python2", 
      "language": "python"
    }, 
    "language_info": {
      "mimetype": "text/x-python", 
      "nbconvert_exporter": "python", 
      "name": "python", 
      "file_extension": ".py", 
      "version": "2.7.16", 
      "pygments_lexer": "ipython2", 
      "codemirror_mode": {
        "version": 2, 
        "name": "ipython"
      }
    }
  }
}