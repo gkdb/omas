{
  "nbformat_minor": 0, 
  "nbformat": 4, 
  "cells": [
    {
      "execution_count": null, 
      "cell_type": "code", 
      "source": [
        "%matplotlib inline"
      ], 
      "outputs": [], 
      "metadata": {
        "collapsed": false
      }
    }, 
    {
      "source": [
        "\nSave through data systems\n=========================\n\nThis examples instantiates a sample ODS, and saves it and loads it trhough the different systems that OMAS supports.\nFinally, a check is done to make sure that the final ODS is the same as the initial ODS.\n\n.. figure:: ../images/omas_through_simple.png\n  :align: center\n  :width: 50%\n  :alt: omas save data through different file formats\n  :target: ../_images/omas_through_simple.png\n\n"
      ], 
      "cell_type": "markdown", 
      "metadata": {}
    }, 
    {
      "execution_count": null, 
      "cell_type": "code", 
      "source": [
        "from __future__ import print_function, division, unicode_literals\n\nimport os\n\nos.environ['OMAS_DEBUG_TOPIC'] = '*'\n\nfrom omas import *\n\n# load some sample data\nods_start = ods_sample()\n\n# save/load Python pickle\nfilename = 'test.pkl'\nsave_omas_pkl(ods_start, filename)\nods = load_omas_pkl(filename)\n\n# save/load ASCII json\nfilename = 'test.json'\nsave_omas_json(ods, filename)\nods = load_omas_json(filename)\n\n# save/load NetCDF\nfilename = 'test.nc'\nsave_omas_nc(ods, filename)\nods = load_omas_nc(filename)\n\n# save/load HDF5\nfilename = 'test.h5'\nsave_omas_h5(ods, filename)\nods = load_omas_h5(filename)\n\n# remote save/load S3\nfilename = 'test.s3'\nsave_omas_s3(ods, filename)\nods = load_omas_s3(filename)\n\n# save/load IMAS\nomas_rcparams['allow_fake_imas_fallback'] = True\npaths = save_omas_imas(ods, machine='ITER', pulse=1, new=True)\nods_end = load_omas_imas(machine='ITER', pulse=1, paths=paths)\n\n# check data\ncheck = different_ods(ods_start, ods_end)\nif not check:\n    print('OMAS data got saved and loaded correctly throughout')\nelse:\n    pprint(check)"
      ], 
      "outputs": [], 
      "metadata": {
        "collapsed": false
      }
    }
  ], 
  "metadata": {
    "kernelspec": {
      "display_name": "Python 2", 
      "name": "python2", 
      "language": "python"
    }, 
    "language_info": {
      "mimetype": "text/x-python", 
      "nbconvert_exporter": "python", 
      "name": "python", 
      "file_extension": ".py", 
      "version": "2.7.16", 
      "pygments_lexer": "ipython2", 
      "codemirror_mode": {
        "version": 2, 
        "name": "ipython"
      }
    }
  }
}