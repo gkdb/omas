{
  "nbformat_minor": 0, 
  "nbformat": 4, 
  "cells": [
    {
      "execution_count": null, 
      "cell_type": "code", 
      "source": [
        "%matplotlib inline"
      ], 
      "outputs": [], 
      "metadata": {
        "collapsed": false
      }
    }, 
    {
      "source": [
        "\nInterpolate whole ODS\n=====================\nSeamless handling of coordinates within OMAS makes it easy to reinterpolate a whole ODS on a new grid\n\n"
      ], 
      "cell_type": "markdown", 
      "metadata": {}
    }, 
    {
      "execution_count": null, 
      "cell_type": "code", 
      "source": [
        "from __future__ import print_function, division, unicode_literals\n\nimport numpy\nfrom omas import *\n\n# original ODS\nods = ODS()\nods.sample_equilibrium()\n\n# interpolated ODS\nods_interpolated = ODS()\n\n# define new psi grid of ods_interpolated\nnew_psi = numpy.linspace(ods['equilibrium.time_slice.0.profiles_1d.psi'][0], ods['equilibrium.time_slice.0.profiles_1d.psi'][-1], 21)\nods_interpolated['equilibrium.time_slice.0.profiles_1d.psi'] = new_psi\n\n# interpolate whole ods on new psi grid\nwith omas_environment(ods_interpolated, coordsio=ods):\n    ods_interpolated.update(ods)\n\n# print some quantity from interpolated ods\nassert len(ods_interpolated['equilibrium.time_slice.0.profiles_1d.pressure']) == 21\nprint(ods_interpolated['equilibrium.time_slice.0.profiles_1d.pressure'])"
      ], 
      "outputs": [], 
      "metadata": {
        "collapsed": false
      }
    }
  ], 
  "metadata": {
    "kernelspec": {
      "display_name": "Python 2", 
      "name": "python2", 
      "language": "python"
    }, 
    "language_info": {
      "mimetype": "text/x-python", 
      "nbconvert_exporter": "python", 
      "name": "python", 
      "file_extension": ".py", 
      "version": "2.7.16", 
      "pygments_lexer": "ipython2", 
      "codemirror_mode": {
        "version": 2, 
        "name": "ipython"
      }
    }
  }
}