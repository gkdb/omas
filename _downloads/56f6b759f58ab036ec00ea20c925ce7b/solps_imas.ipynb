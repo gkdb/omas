{
  "nbformat_minor": 0, 
  "nbformat": 4, 
  "cells": [
    {
      "execution_count": null, 
      "cell_type": "code", 
      "source": [
        "%matplotlib inline"
      ], 
      "outputs": [], 
      "metadata": {
        "collapsed": false
      }
    }, 
    {
      "source": [
        "\nSOLPS and IMAS\n==============\nUsing OMAS to load data from a SOLPS simulation stored in the ITER scenario database\n\nPrior running this script, the following commands must be typed at the teriminal\n> import IMAS OMAS\n> imasdb ITER\n\n"
      ], 
      "cell_type": "markdown", 
      "metadata": {}
    }, 
    {
      "execution_count": null, 
      "cell_type": "code", 
      "source": [
        "from __future__ import print_function, division, unicode_literals\n\nimport os\nfrom pprint import pprint\nfrom numpy import *\nfrom omas import *\n\n# load an ITER scenario that has SOLPS data in an ODS\nods = load_omas_iter_scenario(pulse=102292, run=1, verbose=False)\n\n# print paths\npprint(ods.pretty_paths())\n\n# add some arbitrary data to an entry in the tree\nods['edge_profiles.ggd[0].electrons.density[9].values'] = linspace(0, 1, 10)\n\n# save updated ODS to our personal IMAS database\nsave_omas_imas(ods,\n               machine='ITER',\n               pulse=102292,\n               run=11,\n               new=True,\n               imas_version=omas_rcparams['default_imas_version'])\n\n# re-load data from our personal IMAS database\nods1 = load_omas_imas(machine='ITER',\n                      pulse=102292,\n                      run=11,\n                      imas_version=omas_rcparams['default_imas_version'])\n\n# convince ourselves that the data has indeed been written and read back\nprint(ods1['edge_profiles.ggd[0].electrons.density[9].values'])"
      ], 
      "outputs": [], 
      "metadata": {
        "collapsed": false
      }
    }
  ], 
  "metadata": {
    "kernelspec": {
      "display_name": "Python 2", 
      "name": "python2", 
      "language": "python"
    }, 
    "language_info": {
      "mimetype": "text/x-python", 
      "nbconvert_exporter": "python", 
      "name": "python", 
      "file_extension": ".py", 
      "version": "2.7.16", 
      "pygments_lexer": "ipython2", 
      "codemirror_mode": {
        "version": 2, 
        "name": "ipython"
      }
    }
  }
}