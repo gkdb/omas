{
  "nbformat_minor": 0, 
  "nbformat": 4, 
  "cells": [
    {
      "execution_count": null, 
      "cell_type": "code", 
      "source": [
        "%matplotlib inline"
      ], 
      "outputs": [], 
      "metadata": {
        "collapsed": false
      }
    }, 
    {
      "source": [
        "\nUncertain data\n==============\nThis example shows how OMAS can seamlessly handle unceratain data leveraging the `uncertainties` Python package\n\n"
      ], 
      "cell_type": "markdown", 
      "metadata": {}
    }, 
    {
      "execution_count": null, 
      "cell_type": "code", 
      "source": [
        "from __future__ import print_function, division, unicode_literals\n\nfrom omas import *\nimport os\nimport numpy\nimport uncertainties.unumpy as unumpy\nfrom uncertainties import ufloat\n\n# generate some uncertain data\nods = ODS()\nods['equilibrium.time_slice[0].global_quantities.ip'] = ufloat(3, 0.1)\nods['thomson_scattering.channel[0].t_e.data'] = unumpy.uarray([1, 2, 3], [.1, .2, .3])\nods['thomson_scattering.channel[0].n_e.data'] = numpy.array([1., 2., 3.])\nods['thomson_scattering.time'] = numpy.linspace(0, 1, 3)\nods['thomson_scattering.ids_properties.homogeneous_time'] = 1\n\n# save/load from pickle\nprint('== PKL ==')\nsave_omas_pkl(ods, 'test.pkl')\nods = load_omas_pkl('test.pkl')\nprint(ods)\n\n# save/load from json\nprint('== JSON ==')\nsave_omas_json(ods, 'test.json')\nods = load_omas_json('test.json')\nprint(ods)\n\n# save/load from nc\nprint('== NC ==')\nsave_omas_nc(ods, 'test.nc')\nods = load_omas_nc('test.nc')\nprint(ods)\n\n# save/load from imas\nprint('== IMAS ==')\nomas_rcparams['allow_fake_imas_fallback'] = True\nsave_omas_imas(ods, user=os.environ.get('USER', 'dummy_user'), machine='test', pulse=10, run=1, new=True)\nods = load_omas_imas(user=os.environ.get('USER', 'dummy_user'), machine='test', pulse=10, run=1, verbose=False)\nprint(ods)"
      ], 
      "outputs": [], 
      "metadata": {
        "collapsed": false
      }
    }
  ], 
  "metadata": {
    "kernelspec": {
      "display_name": "Python 2", 
      "name": "python2", 
      "language": "python"
    }, 
    "language_info": {
      "mimetype": "text/x-python", 
      "nbconvert_exporter": "python", 
      "name": "python", 
      "file_extension": ".py", 
      "version": "2.7.16", 
      "pygments_lexer": "ipython2", 
      "codemirror_mode": {
        "version": 2, 
        "name": "ipython"
      }
    }
  }
}