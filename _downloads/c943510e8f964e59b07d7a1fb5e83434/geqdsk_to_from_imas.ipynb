{
  "nbformat_minor": 0, 
  "nbformat": 4, 
  "cells": [
    {
      "execution_count": null, 
      "cell_type": "code", 
      "source": [
        "%matplotlib inline"
      ], 
      "outputs": [], 
      "metadata": {
        "collapsed": false
      }
    }, 
    {
      "source": [
        "\nOMFIT gEQDSK and IMAS\n=====================\nThis example loads a gEQDSK file using the OMFITgeqdsk class.\nThe gEQKDS file is then save to IMAS and loaded back.\n\nThis example only works with python 2.7 since OMFIT is only Python 2.7 compatible\n\nPrior running this script, the following commands must be typed at the teriminal\n> import IMAS OMAS\n> imasdb ITER\n\n.. figure:: ../images/eq_omas_omfit.png\n  :align: center\n  :width: 75%\n  :alt: OMFIT+OMAS facilitate save/load gEQDSK to/from IMAS\n  :target: /.._images/eq_omas_omfit.png\n\n\n"
      ], 
      "cell_type": "markdown", 
      "metadata": {}
    }, 
    {
      "execution_count": null, 
      "cell_type": "code", 
      "source": [
        "from __future__ import print_function, division, unicode_literals\n\nimport os\nfrom matplotlib import pyplot\n\nfrom omfit.classes.omfit_eqdsk import OMFITgeqdsk, OMFITsrc\nfrom omas import *\n\nimas_version = os.environ.get('IMAS_VERSION', omas_rcparams['default_imas_version'])\n\n# settings\nos.environ['OMAS_DEBUG_TOPIC'] = 'imas'\nomas_rcparams['allow_fake_imas_fallback'] = True\n\n# read gEQDSK file in OMFIT\neq = OMFITgeqdsk(OMFITsrc + '/../samples/g133221.01000')\n\n# convert gEQDSK to OMAS data structure\nods = eq.to_omas()\n\n# save OMAS data structure to IMAS\npaths = save_omas_imas(ods, machine='DIII-D', pulse=133221, new=True)\n\n# load OMAS data structure from IMAS\nods1 = load_omas_imas(machine='DIII-D', pulse=133221)\n\n# generate gEQDSK file from OMAS data structure\neq1 = OMFITgeqdsk('g133221.02000').from_omas(ods1)\n\n# save gEQDSK file\neq1.deploy('g133221.02000')\n\n# plot\neq.plot()\neq1.plot()\npyplot.show()"
      ], 
      "outputs": [], 
      "metadata": {
        "collapsed": false
      }
    }
  ], 
  "metadata": {
    "kernelspec": {
      "display_name": "Python 2", 
      "name": "python2", 
      "language": "python"
    }, 
    "language_info": {
      "mimetype": "text/x-python", 
      "nbconvert_exporter": "python", 
      "name": "python", 
      "file_extension": ".py", 
      "version": "2.7.16", 
      "pygments_lexer": "ipython2", 
      "codemirror_mode": {
        "version": 2, 
        "name": "ipython"
      }
    }
  }
}