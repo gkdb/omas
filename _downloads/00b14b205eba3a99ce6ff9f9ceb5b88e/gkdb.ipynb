{
  "nbformat_minor": 0, 
  "nbformat": 4, 
  "cells": [
    {
      "execution_count": null, 
      "cell_type": "code", 
      "source": [
        "%matplotlib inline"
      ], 
      "outputs": [], 
      "metadata": {
        "collapsed": false
      }
    }, 
    {
      "source": [
        "\nInterface with GKDB\n===================\nUse OMAS to interface with Gyro-Kinetic DataBase (GKDB) https://gitlab.com/gkdb/gkdb\nGKDB is a publicly accessible database of delta-f flux-tube gyro-kinetic simulations of tokamak plasmas\nwhich stores its data according to the `gyrokinetic` IMAS IDS https://gafusion.github.io/omas/schema/schema_gyrokinetics.html\n\n"
      ], 
      "cell_type": "markdown", 
      "metadata": {}
    }, 
    {
      "execution_count": null, 
      "cell_type": "code", 
      "source": [
        "from omas import ODS, imas_json_dir\nfrom pprint import pprint\nimport tempfile\nimport sys\n\n# load a sample GKDB sample json file\n# note use of `consistency_check='warn'` is necessary since GKDB json is in fact not yet 100% compatible with IMAS\nsample_filename = imas_json_dir + '/../samples/gkdb_linear_eigenvalue.json'\nods = ODS(consistency_check='warn')\nods['gyrokinetics'].load(sample_filename)\n\n# show content\npprint(ods.pretty_paths())\n\n# save a copy\nfilename = tempfile.gettempdir() + '/gkdb_linear_initialvalue.json'\nods['gyrokinetics'].save(filename)\n\n# load the newly saved copy\nods1 = ODS()\nods1['gyrokinetics'].load(filename, consistency_check='warn')\n\n# look for differences between original GKDB json and OMAS json\ndifferences = ods.diff(ods1, ignore_type=True)\nif not differences:\n    print('\\nPrint no differences found: save/load of GKDB json file worked\\n')\nelse:\n    pprint(differences)\n    raise RuntimeError('Save/Load of GKDB on json file failed')\n\n# raise error if trying to run GKDB under Python2x\ntry:\n    if sys.version_info < (3, 0):\n        raise ImportError('gkdb library is only Python 3 compatible')\n    import gkdb.core.model\nexcept ImportError as _excp:\n    print('Could not import gkdb library: %s' % repr(_excp))\nelse:\n    # Check that GKDB file written by OMAS is valid also according to GKDB\n    if gkdb.core.ids_checks.check_json(filename, only_input=False):\n        print('json file saved via OMAS is valid for gkdb')\n\n    # This requires an account on the GKDB server\n    if False:\n        gkdb.core.model.connect_to_gkdb()\n        gkdb.core.model.Ids_properties.from_json(filename)"
      ], 
      "outputs": [], 
      "metadata": {
        "collapsed": false
      }
    }
  ], 
  "metadata": {
    "kernelspec": {
      "display_name": "Python 2", 
      "name": "python2", 
      "language": "python"
    }, 
    "language_info": {
      "mimetype": "text/x-python", 
      "nbconvert_exporter": "python", 
      "name": "python", 
      "file_extension": ".py", 
      "version": "2.7.16", 
      "pygments_lexer": "ipython2", 
      "codemirror_mode": {
        "version": 2, 
        "name": "ipython"
      }
    }
  }
}