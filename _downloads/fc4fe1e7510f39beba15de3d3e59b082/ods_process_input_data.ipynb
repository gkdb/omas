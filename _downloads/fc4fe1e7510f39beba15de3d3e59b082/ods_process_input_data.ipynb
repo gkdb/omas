{
  "nbformat_minor": 0, 
  "nbformat": 4, 
  "cells": [
    {
      "execution_count": null, 
      "cell_type": "code", 
      "source": [
        "%matplotlib inline"
      ], 
      "outputs": [], 
      "metadata": {
        "collapsed": false
      }
    }, 
    {
      "source": [
        "\nInput data processing\n=====================\nOMAS supports user defined input data processing\n\n"
      ], 
      "cell_type": "markdown", 
      "metadata": {}
    }, 
    {
      "execution_count": null, 
      "cell_type": "code", 
      "source": [
        "from omas import *\n\n\n# user defined function that takes input string and converts it to python types\ndef robust_eval(string):\n    import ast\n    try:\n        return ast.literal_eval(string)\n    except:\n        return string\n\n\n# assign data and process it with user defined function\nods = ODS(consistency_check=False)\nwith omas_environment(ods, input_data_process_functions=[robust_eval]):\n    ods['int'] = '1'\n    ods['float'] = '1.0'\n    ods['str'] = 'bla'\n    ods['complex'] = '2+1j'\n\n# test\nfor item in ods:\n    print(ods[item], type(ods[item]))\n    assert isinstance(ods[item], eval(item))"
      ], 
      "outputs": [], 
      "metadata": {
        "collapsed": false
      }
    }
  ], 
  "metadata": {
    "kernelspec": {
      "display_name": "Python 2", 
      "name": "python2", 
      "language": "python"
    }, 
    "language_info": {
      "mimetype": "text/x-python", 
      "nbconvert_exporter": "python", 
      "name": "python", 
      "file_extension": ".py", 
      "version": "2.7.16", 
      "pygments_lexer": "ipython2", 
      "codemirror_mode": {
        "version": 2, 
        "name": "ipython"
      }
    }
  }
}