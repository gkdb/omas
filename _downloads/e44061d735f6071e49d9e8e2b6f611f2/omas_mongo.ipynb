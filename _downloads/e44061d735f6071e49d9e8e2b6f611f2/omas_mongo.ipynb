{
  "nbformat_minor": 0, 
  "nbformat": 4, 
  "cells": [
    {
      "execution_count": null, 
      "cell_type": "code", 
      "source": [
        "%matplotlib inline"
      ], 
      "outputs": [], 
      "metadata": {
        "collapsed": false
      }
    }, 
    {
      "source": [
        "\nMongoDB storage and discovery\n=============================\nOMAS can store/load its data in a MongoDB server.\nMongoDB is a document-oriented database program that uses JSON-like documents with schema\nand supports field, range query, and regular expression searches.\n\nAs an example we illustrate storage of GKDB data in this format.\n\n"
      ], 
      "cell_type": "markdown", 
      "metadata": {}
    }, 
    {
      "execution_count": null, 
      "cell_type": "code", 
      "source": [
        "from pprint import *\nfrom omas import *\n\nods = ODS().sample_equilibrium()\nods['equilibrium.code.name'] = 'test_code'\n\n# write entry to the database\n_id = save_omas_mongo(ods, collection='test', database='test')\n\n# retrieve exact entry using `_id`\nods = ODS().load('mongo', {'_id': _id}, collection='test', database='test')\n\n# find entries that satisfy the query by matching strings\nodss = load_omas_mongo({'equilibrium.code.name': 'test_code'}, collection='test', database='test')\n\n# navigate through dictionaries and arrays of structures\n# https://docs.mongodb.com/manual/tutorial/query-embedded-documents/\nodss = load_omas_mongo({'equilibrium.time_slice.0.global_quantities.ip': {'$gt': 0}}, collection='test', database='test')\n\n# find entries based on conditions on array elements\n# https://docs.mongodb.com/manual/tutorial/query-arrays/\nodss = load_omas_mongo({'equilibrium.vacuum_toroidal_field.b0': {'$size': 1}}, collection='test', database='test')\n\n# =============================================\n# showcase use of MongoDB storage for GKDB data\n# =============================================\n# load a sample GKDB sample json file\n# note use of `consistency_check='warn'` is necessary since GKDB json is in fact not yet 100% compatible with IMAS\nsample_filename = imas_json_dir + '/../samples/gkdb_linear_eigenvalue.json'\nods = ODS(consistency_check='warn')\nods['gyrokinetics'].load(sample_filename)\n\n# write GKDB entry to the database\n_id = ods.save('mongo', collection='gkdb', database='test')\n\n# reload GKDB entry\nods1 = ODS(consistency_check='warn')\nods1.load('mongo', {'_id': _id}, collection='gkdb', database='test')\n\n# look for differences between original GKDB json and MongoDB entry\ndifferences = ods.diff(ods1, ignore_type=True)\nif not differences:\n    print('\\nPrint no differences found: save/load of GKDB on MongoDB worked\\n')\nelse:\n    pprint(differences)\n    raise RuntimeError('Save/Load of GKDB  on MongoDB failed')"
      ], 
      "outputs": [], 
      "metadata": {
        "collapsed": false
      }
    }
  ], 
  "metadata": {
    "kernelspec": {
      "display_name": "Python 2", 
      "name": "python2", 
      "language": "python"
    }, 
    "language_info": {
      "mimetype": "text/x-python", 
      "nbconvert_exporter": "python", 
      "name": "python", 
      "file_extension": ".py", 
      "version": "2.7.16", 
      "pygments_lexer": "ipython2", 
      "codemirror_mode": {
        "version": 2, 
        "name": "ipython"
      }
    }
  }
}