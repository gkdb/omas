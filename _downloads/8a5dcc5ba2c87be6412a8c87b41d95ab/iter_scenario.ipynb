{
  "nbformat_minor": 0, 
  "nbformat": 4, 
  "cells": [
    {
      "execution_count": null, 
      "cell_type": "code", 
      "source": [
        "%matplotlib inline"
      ], 
      "outputs": [], 
      "metadata": {
        "collapsed": false
      }
    }, 
    {
      "source": [
        "\nWork with ITER IMAS scenario database\n=====================================\n\nPlease refer to the `ITER page: <iter>`.\n\n\n"
      ], 
      "cell_type": "markdown", 
      "metadata": {}
    }, 
    {
      "execution_count": null, 
      "cell_type": "code", 
      "source": [
        "# load OMAS package\nfrom omas import *\n\n# load data from a pulse chosen from the ITER scenario database\nods = load_omas_iter_scenario(pulse=131034, run=0)\n\n# print nodes with data\nfrom pprint import pprint\n\npprint(ods.pretty_paths())\n\n# save data in different format (eg. pickle file)\nsave_omas_pkl(ods, 'iter_scenario_131034.pk')"
      ], 
      "outputs": [], 
      "metadata": {
        "collapsed": false
      }
    }
  ], 
  "metadata": {
    "kernelspec": {
      "display_name": "Python 2", 
      "name": "python2", 
      "language": "python"
    }, 
    "language_info": {
      "mimetype": "text/x-python", 
      "nbconvert_exporter": "python", 
      "name": "python", 
      "file_extension": ".py", 
      "version": "2.7.16", 
      "pygments_lexer": "ipython2", 
      "codemirror_mode": {
        "version": 2, 
        "name": "ipython"
      }
    }
  }
}