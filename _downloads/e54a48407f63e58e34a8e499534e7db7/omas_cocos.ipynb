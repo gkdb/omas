{
  "nbformat_minor": 0, 
  "nbformat": 4, 
  "cells": [
    {
      "execution_count": null, 
      "cell_type": "code", 
      "source": [
        "%matplotlib inline"
      ], 
      "outputs": [], 
      "metadata": {
        "collapsed": false
      }
    }, 
    {
      "source": [
        "\nCOCOS transformations\n=====================\nOMAS can seamlessly handle coordinates convention translations\n\n"
      ], 
      "cell_type": "markdown", 
      "metadata": {}
    }, 
    {
      "execution_count": null, 
      "cell_type": "code", 
      "source": [
        "from __future__ import print_function, division, unicode_literals\n\nimport os\n\nos.environ['OMAS_DEBUG_TOPIC'] = 'cocos'\n\nfrom omas import *\nimport numpy\n\nx = numpy.linspace(.1, 1, 10)\n\n# use different COCOS storage conventions\n\nods = ODS(cocosio=11, cocos=11)\nods['equilibrium.time_slice.0.profiles_1d.psi'] = x\nassert (numpy.allclose(ods['equilibrium.time_slice.0.profiles_1d.psi'], x))\nprint(ods['equilibrium.time_slice.0.profiles_1d.psi'])\n\nods = ODS(cocosio=11, cocos=2)\nods['equilibrium.time_slice.0.profiles_1d.psi'] = x\nassert (numpy.allclose(ods['equilibrium.time_slice.0.profiles_1d.psi'], x))\nprint(ods['equilibrium.time_slice.0.profiles_1d.psi'])\n\nods = ODS(cocosio=2, cocos=11)\nods['equilibrium.time_slice.0.profiles_1d.psi'] = x\nassert (numpy.allclose(ods['equilibrium.time_slice.0.profiles_1d.psi'], x))\nprint(ods['equilibrium.time_slice.0.profiles_1d.psi'])\n\nods = ODS(cocosio=2, cocos=2)\nods['equilibrium.time_slice.0.profiles_1d.psi'] = x\nassert (numpy.allclose(ods['equilibrium.time_slice.0.profiles_1d.psi'], x))\nprint(ods['equilibrium.time_slice.0.profiles_1d.psi'])\n\n# reassign the same value\nods = ODS(cocosio=2)\nods['equilibrium.time_slice.0.profiles_1d.psi'] = x\nods['equilibrium.time_slice.0.profiles_1d.psi'] = ods['equilibrium.time_slice.0.profiles_1d.psi']\nassert (numpy.allclose(ods['equilibrium.time_slice.0.profiles_1d.psi'], x))\nprint(ods['equilibrium.time_slice.0.profiles_1d.psi'])\n\n# use omas_environment\nods = ODS(cocosio=2)\nods['equilibrium.time_slice.0.profiles_1d.psi'] = x\nwith omas_environment(ods, cocosio=11):\n    assert (numpy.allclose(ods['equilibrium.time_slice.0.profiles_1d.psi'], -x * (2 * numpy.pi)))\n    print(ods['equilibrium.time_slice.0.profiles_1d.psi'])\n\nods['equilibrium.time_slice.0.profiles_1d.psi'] = x\nassert (numpy.allclose(ods['equilibrium.time_slice.0.profiles_1d.psi'], x))\nprint(ods['equilibrium.time_slice.0.profiles_1d.psi'])"
      ], 
      "outputs": [], 
      "metadata": {
        "collapsed": false
      }
    }
  ], 
  "metadata": {
    "kernelspec": {
      "display_name": "Python 2", 
      "name": "python2", 
      "language": "python"
    }, 
    "language_info": {
      "mimetype": "text/x-python", 
      "nbconvert_exporter": "python", 
      "name": "python", 
      "file_extension": ".py", 
      "version": "2.7.16", 
      "pygments_lexer": "ipython2", 
      "codemirror_mode": {
        "version": 2, 
        "name": "ipython"
      }
    }
  }
}