{
  "nbformat_minor": 0, 
  "nbformat": 4, 
  "cells": [
    {
      "execution_count": null, 
      "cell_type": "code", 
      "source": [
        "%matplotlib inline"
      ], 
      "outputs": [], 
      "metadata": {
        "collapsed": false
      }
    }, 
    {
      "source": [
        "\nAccess data across multiple ODSs\n================================\nODS with consistency_check=False can be used to traverse data across multiple ODSs\n\n"
      ], 
      "cell_type": "markdown", 
      "metadata": {}
    }, 
    {
      "execution_count": null, 
      "cell_type": "code", 
      "source": [
        "from omas import *\n\n# define a ods to collect multiple ODSs\nmaster_ods = ODS(consistency_check=False)\n\n# populate master_ods with a 5x3 grid of ODSs each having their data\nfor k in range(5):\n    for j in range(3):\n        ods = ODS(consistency_check=False)\n        ods['data'] = k\n        master_ods[k][j] = ods\n\n# print data aggregating across ODSs\nprint(master_ods[':.:.data'])"
      ], 
      "outputs": [], 
      "metadata": {
        "collapsed": false
      }
    }, 
    {
      "source": [
        "This will return::\n\n    [[0 0 0]\n     [1 1 1]\n     [2 2 2]\n     [3 3 3]\n     [4 4 4]]\n\n"
      ], 
      "cell_type": "markdown", 
      "metadata": {}
    }
  ], 
  "metadata": {
    "kernelspec": {
      "display_name": "Python 2", 
      "name": "python2", 
      "language": "python"
    }, 
    "language_info": {
      "mimetype": "text/x-python", 
      "nbconvert_exporter": "python", 
      "name": "python", 
      "file_extension": ".py", 
      "version": "2.7.16", 
      "pygments_lexer": "ipython2", 
      "codemirror_mode": {
        "version": 2, 
        "name": "ipython"
      }
    }
  }
}